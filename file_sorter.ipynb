{
 "cells": [
  {
   "cell_type": "markdown",
   "metadata": {},
   "source": [
    "# THIS CODE IS NOT COMPLETE AND WAS EDITED AND PARTS WHERE DELETED THAT WHERE PART OF THE PROCESS. THIS ARE JUST THE REST OF THE SNIPPETS THAT WHERE USED"
   ]
  },
  {
   "cell_type": "code",
   "execution_count": 2,
   "metadata": {},
   "outputs": [],
   "source": [
    "import os\n",
    "import re\n",
    "import itertools\n",
    "\n",
    "import pandas as pd\n",
    "import seaborn as sns\n",
    "from exif import Image"
   ]
  },
  {
   "cell_type": "code",
   "execution_count": 3,
   "metadata": {},
   "outputs": [],
   "source": [
    "directories = [\n",
    "    file for file in os.walk(os.path.expanduser(\"~/Documents/Central/Data/Images\"))\n",
    "]"
   ]
  },
  {
   "cell_type": "code",
   "execution_count": 4,
   "metadata": {},
   "outputs": [],
   "source": [
    "files_with_path = []\n",
    "for path, folders, files in directories:\n",
    "    files_with_path.append([f\"{path}/{file}\" for file in files])\n",
    "files_with_path = list(itertools.chain(*files_with_path))"
   ]
  },
  {
   "cell_type": "code",
   "execution_count": 4,
   "metadata": {},
   "outputs": [],
   "source": [
    "def normalize_jpg_file_ending():\n",
    "    renamed = 0\n",
    "\n",
    "    for file in files_with_path:\n",
    "        try:\n",
    "            file_path, ending = file.split(\".\")\n",
    "        except Exception as e:\n",
    "            print(str(e))\n",
    "            print(file)\n",
    "            continue\n",
    "        if ending in [\"JPG\", \"jpeg\"]:\n",
    "            renamed += 1\n",
    "            os.rename(file, file_path + \".jpg\")\n",
    "\n",
    "    print(renamed)"
   ]
  },
  {
   "cell_type": "code",
   "execution_count": 5,
   "metadata": {},
   "outputs": [],
   "source": [
    "file_endings = [file.split(\".\")[-1] for file in files_with_path]"
   ]
  },
  {
   "cell_type": "code",
   "execution_count": 6,
   "metadata": {},
   "outputs": [
    {
     "data": {
      "text/plain": [
       "<Axes: ylabel='count'>"
      ]
     },
     "execution_count": 6,
     "metadata": {},
     "output_type": "execute_result"
    },
    {
     "data": {
      "image/png": "[encoded data removed]",
      "text/plain": [
       "<Figure size 640x480 with 1 Axes>"
      ]
     },
     "metadata": {},
     "output_type": "display_data"
    }
   ],
   "source": [
    "counts = pd.Series(file_endings).value_counts()\n",
    "sns.countplot(x=file_endings, order=counts.index)"
   ]
  },
  {
   "cell_type": "code",
   "execution_count": null,
   "metadata": {},
   "outputs": [],
   "source": [
    "exif_informations = []\n",
    "for file in files_with_path:\n",
    "    img = None\n",
    "    with open(file, \"rb\") as img_file:\n",
    "        try:\n",
    "            img = Image(img_file)\n",
    "        except Exception as e:\n",
    "            pass\n",
    "    if img is None:\n",
    "        continue\n",
    "    if img.has_exif:\n",
    "        infos = {\"file_name\": file}\n",
    "        for key in img.list_all():\n",
    "            try:\n",
    "                infos[key] = img[key]\n",
    "            except Exception as e:\n",
    "                pass\n",
    "        exif_informations.append(infos)\n",
    "\n",
    "exif_df = pd.DataFrame(exif_informations)"
   ]
  },
  {
   "cell_type": "code",
   "execution_count": null,
   "metadata": {},
   "outputs": [],
   "source": [
    "exif_df.head()"
   ]
  },
  {
   "cell_type": "code",
   "execution_count": 9,
   "metadata": {},
   "outputs": [],
   "source": [
    "exif_df.to_csv(\"exif.csv\")"
   ]
  },
  {
   "cell_type": "code",
   "execution_count": null,
   "metadata": {},
   "outputs": [],
   "source": [
    "import seaborn as sns\n",
    "import matplotlib.pyplot as plt\n",
    "import pandas as pd\n",
    "\n",
    "# Filter the data to only include rows where 'datetime' is None\n",
    "df_filtered_na = exif_df[exif_df[\"datetime\"].isna()]\n",
    "df_filtered_not_na = exif_df[~exif_df[\"datetime\"].isna()]\n",
    "\n",
    "# Extract the year from the 'file_name' column\n",
    "df_filtered_na[\"year\"] = df_filtered_na[\"file_name\"].apply(lambda x: x.split(\"/\")[-2])\n",
    "df_filtered_not_na[\"year\"] = df_filtered_not_na[\"file_name\"].apply(\n",
    "    lambda x: x.split(\"/\")[-2]\n",
    ")\n",
    "\n",
    "# Calculate the counts for each year\n",
    "counts_na = df_filtered_na[\"year\"].value_counts().reset_index(name=\"counts_na\")\n",
    "counts_not_na = (\n",
    "    df_filtered_not_na[\"year\"].value_counts().reset_index(name=\"counts_not_na\")\n",
    ")\n",
    "\n",
    "# Merge the counts\n",
    "merged_counts = pd.merge(counts_na, counts_not_na, on=\"year\")\n",
    "\n",
    "# Create a bar chart with two bars per year\n",
    "plt.figure(figsize=(10, 6))\n",
    "sns.barplot(\n",
    "    data=merged_counts.melt(id_vars=\"year\", var_name=\"Existence\", value_name=\"counts\"),\n",
    "    x=\"year\",\n",
    "    y=\"counts\",\n",
    "    hue=\"Existence\",\n",
    ")\n",
    "\n",
    "plt.title(\"Count of files by year, divided by existence of datetime\")\n",
    "plt.xlabel(\"Year\")\n",
    "plt.ylabel(\"Count\")\n",
    "plt.legend(title=\"Existence\", loc=\"upper right\")\n",
    "plt.show()"
   ]
  },
  {
   "cell_type": "code",
   "execution_count": 95,
   "metadata": {},
   "outputs": [],
   "source": [
    "directories = [file for file in os.walk(os.path.expanduser(\"~/Pictures/0_Yearly\"))]\n",
    "files_with_path = []\n",
    "for path, folders, files in directories:\n",
    "    files_with_path.append([f\"{path}/{file}\" for file in files])\n",
    "files_with_path = list(itertools.chain(*files_with_path))"
   ]
  },
  {
   "cell_type": "code",
   "execution_count": 96,
   "metadata": {},
   "outputs": [],
   "source": [
    "import re\n",
    "\n",
    "with_eight_digits = list(\n",
    "    filter(lambda s: re.search(r\"\\d{8}[_-]\\d{4,}\", s), files_with_path)\n",
    ")\n",
    "\n",
    "correct_format = list(\n",
    "    filter(\n",
    "        lambda s: re.search(r\"(\\d{4}-\\d{2}-\\d{2} \\d{2}-\\d{2}-\\d{2})\", s),\n",
    "        files_with_path,\n",
    "    )\n",
    ")\n",
    "\n",
    "only_date = list(\n",
    "    filter(\n",
    "        lambda s: re.search(r\"(\\d{8})\", s)\n",
    "        and s not in with_eight_digits\n",
    "        and s not in correct_format,\n",
    "        files_with_path,\n",
    "    )\n",
    ")\n",
    "other = [\n",
    "    s\n",
    "    for s in files_with_path\n",
    "    if s not in with_eight_digits and s not in correct_format and s not in only_date\n",
    "]"
   ]
  },
  {
   "cell_type": "code",
   "execution_count": 97,
   "metadata": {},
   "outputs": [],
   "source": [
    "def all_elements_unique(list1, list2, list3):\n",
    "    all_elements = list1 + list2 + list3\n",
    "    return len(all_elements) == len(set(all_elements))"
   ]
  },
  {
   "cell_type": "code",
   "execution_count": 98,
   "metadata": {},
   "outputs": [
    {
     "name": "stdout",
     "output_type": "stream",
     "text": [
      "3808\n",
      "0\n",
      "0\n",
      "3\n",
      "Correct 3805\n",
      "True\n"
     ]
    }
   ],
   "source": [
    "total = len(files_with_path)\n",
    "print(total)\n",
    "print(len(with_eight_digits))\n",
    "print(len(only_date))\n",
    "print(len(other))\n",
    "print(\"Correct\", len(correct_format))\n",
    "print(all_elements_unique(with_eight_digits, correct_format, only_date))"
   ]
  },
  {
   "cell_type": "code",
   "execution_count": 12,
   "metadata": {},
   "outputs": [],
   "source": [
    "with_eight_digits_numbers = [\n",
    "    re.search(r\"(\\d{8})[_-](\\d{4,})\", s).groups()\n",
    "    for s in files_with_path\n",
    "    if re.search(r\"\\d{8}[_-]\\d{4,}\", s)\n",
    "]\n",
    "\n",
    "\n",
    "for file, (date, time) in zip(with_eight_digits, with_eight_digits_numbers):\n",
    "    ending = f\".{file.split(\".\")[-1]}\"\n",
    "    base_path = file[: file.rfind(\"/\") + 1]\n",
    "    new_file_name = f\"{date[:4]}-{date[4:6]}-{date[6:]} {time[:2]}-{time[2:4]}\"\n",
    "    new_file_name += f\"-{time[4:6]}\" if len(time) > 4 else \"\"\n",
    "    new_path = base_path + new_file_name + ending\n",
    "    #os.rename(file,new_path)"
   ]
  },
  {
   "cell_type": "code",
   "execution_count": 45,
   "metadata": {},
   "outputs": [],
   "source": [
    "only_date_numbers = [\n",
    "    re.search(r\"(\\d{8})\", s).groups()\n",
    "    for s in files_with_path\n",
    "    if re.search(r\"(\\d{8})\", s)\n",
    "]\n",
    "\n",
    "update_paths = []\n",
    "\n",
    "for file, date in zip(only_date, only_date_numbers):\n",
    "    date = date[0]\n",
    "    img = None\n",
    "    with open(file, \"rb\") as f:\n",
    "        try:\n",
    "            img = Image(file)\n",
    "        except Exception as e:\n",
    "            pass\n",
    "    extracted_date = None\n",
    "    if img and img.has_exif:\n",
    "        if img.get(\"datetime\"):\n",
    "            extracted_date = img.get(\"datetime\")\n",
    "\n",
    "    ending = f\".{file.split(\".\")[-1]}\"\n",
    "    base_path = file[: file.rfind(\"/\") + 1]\n",
    "    \n",
    "    if extracted_date:\n",
    "        print(\"Hello\")\n",
    "        extracted_date = extracted_date.replace(\":\", \"-\")\n",
    "        new_path = base_path + extracted_date + ending    \n",
    "        # os.rename(file,new_path)\n",
    "    else:\n",
    "        ending = f\".{file.split(\".\")[-1]}\"\n",
    "        base_path = file[: file.rfind(\"/\") + 1]\n",
    "        new_file_name = f\"{date[:4]}-{date[4:6]}-{date[6:8]} 00-00-00\"\n",
    "        new_path = base_path + new_file_name + ending\n",
    "        while new_path in update_paths:\n",
    "            last_digits = new_file_name[-2:]\n",
    "            new_file_name = new_file_name[:-2] +  f\"{(int(last_digits) + 1):02d}\"\n",
    "            new_path = base_path + new_file_name + ending\n",
    "        update_paths.append(new_path)\n",
    "        os.rename(file,new_path)\n",
    "    "
   ]
  },
  {
   "cell_type": "code",
   "execution_count": 78,
   "metadata": {},
   "outputs": [],
   "source": [
    "updated_paths = []"
   ]
  },
  {
   "cell_type": "code",
   "execution_count": 83,
   "metadata": {},
   "outputs": [],
   "source": [
    "for file in other:\n",
    "    if \".DS_Store\" in file:\n",
    "        os.remove(file)"
   ]
  },
  {
   "cell_type": "code",
   "execution_count": null,
   "metadata": {},
   "outputs": [],
   "source": [
    "updated_paths = []\n",
    "for file in other:\n",
    "    with open(file, \"rb\") as f:\n",
    "        try:\n",
    "            img = Image(file)\n",
    "        except Exception as e:\n",
    "                pass\n",
    "    extracted_date = None\n",
    "    if img and img.has_exif:\n",
    "        if img.get(\"datetime\"):\n",
    "             extracted_date = img.get(\"datetime\")\n",
    "\n",
    "    ending = f\".{file.split(\".\")[-1]}\"\n",
    "    base_path = file[: file.rfind(\"/\") + 1]\n",
    "        \n",
    "    if extracted_date:\n",
    "        extracted_date = extracted_date.replace(\":\", \"-\")\n",
    "        new_path = base_path + extracted_date + ending\n",
    "        while new_path in update_paths:\n",
    "            last_digits = extracted_date[-2:]\n",
    "            extracted_date = extracted_date[:-2] +  f\"{(int(last_digits) + 1):02d}\"\n",
    "            new_path = base_path + extracted_date + ending\n",
    "\n",
    "        updated_paths.append(new_path)\n",
    "        # os.rename(file,new_path)    \n",
    "    else:\n",
    "        print(file)\n",
    "    # year = file.split(\"/\")[-2]\n",
    "    \n",
    "    # base_path = file[: file.rfind(\"/\") + 1]\n",
    "    # new_file_name = f\"{year}-01-01 00-00-00\"\n",
    "    # ending = f\".{file.split(\".\")[-1]}\"\n",
    "    # new_path = base_path + new_file_name + ending\n",
    "    #os.rename(file,new_path)\n",
    "    \n",
    "print(len(updated_paths),len(other))"
   ]
  }
 ],
 "metadata": {
  "kernelspec": {
   "display_name": "venv",
   "language": "python",
   "name": "python3"
  },
  "language_info": {
   "codemirror_mode": {
    "name": "ipython",
    "version": 3
   },
   "file_extension": ".py",
   "mimetype": "text/x-python",
   "name": "python",
   "nbconvert_exporter": "python",
   "pygments_lexer": "ipython3",
   "version": "3.12.3"
  }
 },
 "nbformat": 4,
 "nbformat_minor": 2
}
